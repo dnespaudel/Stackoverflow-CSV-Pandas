{
 "cells": [
  {
   "cell_type": "code",
   "execution_count": 1,
   "id": "44642cf1",
   "metadata": {},
   "outputs": [],
   "source": [
    "people = {\n",
    "    'first': ['Dinesh', 'Hardik', 'Bishnu'],\n",
    "    'last': ['Paudel', 'Paudel', 'Dhakal'],\n",
    "    'email': ['dnespaudel@gmail.com', 'hardikkhanl@gmail.com', 'bishnudhakal@gmail.com']\n",
    "}"
   ]
  },
  {
   "cell_type": "code",
   "execution_count": 2,
   "id": "c600bf2d",
   "metadata": {},
   "outputs": [],
   "source": [
    "import pandas as pd"
   ]
  },
  {
   "cell_type": "code",
   "execution_count": 3,
   "id": "da8074a6",
   "metadata": {},
   "outputs": [],
   "source": [
    "df = pd.DataFrame(people)"
   ]
  },
  {
   "cell_type": "code",
   "execution_count": 4,
   "id": "f665bfd7",
   "metadata": {},
   "outputs": [
    {
     "data": {
      "text/html": [
       "<div>\n",
       "<style scoped>\n",
       "    .dataframe tbody tr th:only-of-type {\n",
       "        vertical-align: middle;\n",
       "    }\n",
       "\n",
       "    .dataframe tbody tr th {\n",
       "        vertical-align: top;\n",
       "    }\n",
       "\n",
       "    .dataframe thead th {\n",
       "        text-align: right;\n",
       "    }\n",
       "</style>\n",
       "<table border=\"1\" class=\"dataframe\">\n",
       "  <thead>\n",
       "    <tr style=\"text-align: right;\">\n",
       "      <th></th>\n",
       "      <th>first</th>\n",
       "      <th>last</th>\n",
       "      <th>email</th>\n",
       "    </tr>\n",
       "  </thead>\n",
       "  <tbody>\n",
       "    <tr>\n",
       "      <th>0</th>\n",
       "      <td>Dinesh</td>\n",
       "      <td>Paudel</td>\n",
       "      <td>dnespaudel@gmail.com</td>\n",
       "    </tr>\n",
       "    <tr>\n",
       "      <th>1</th>\n",
       "      <td>Hardik</td>\n",
       "      <td>Paudel</td>\n",
       "      <td>hardikkhanl@gmail.com</td>\n",
       "    </tr>\n",
       "    <tr>\n",
       "      <th>2</th>\n",
       "      <td>Bishnu</td>\n",
       "      <td>Dhakal</td>\n",
       "      <td>bishnudhakal@gmail.com</td>\n",
       "    </tr>\n",
       "  </tbody>\n",
       "</table>\n",
       "</div>"
      ],
      "text/plain": [
       "    first    last                   email\n",
       "0  Dinesh  Paudel    dnespaudel@gmail.com\n",
       "1  Hardik  Paudel   hardikkhanl@gmail.com\n",
       "2  Bishnu  Dhakal  bishnudhakal@gmail.com"
      ]
     },
     "execution_count": 4,
     "metadata": {},
     "output_type": "execute_result"
    }
   ],
   "source": [
    "df"
   ]
  },
  {
   "cell_type": "code",
   "execution_count": 5,
   "id": "5ca43127",
   "metadata": {},
   "outputs": [
    {
     "data": {
      "text/plain": [
       "0    Paudel\n",
       "1    Paudel\n",
       "2    Dhakal\n",
       "Name: last, dtype: object"
      ]
     },
     "execution_count": 5,
     "metadata": {},
     "output_type": "execute_result"
    }
   ],
   "source": [
    "df['last']"
   ]
  },
  {
   "cell_type": "code",
   "execution_count": null,
   "id": "9240a2b5",
   "metadata": {},
   "outputs": [],
   "source": []
  }
 ],
 "metadata": {
  "kernelspec": {
   "display_name": "Python 3 (ipykernel)",
   "language": "python",
   "name": "python3"
  },
  "language_info": {
   "codemirror_mode": {
    "name": "ipython",
    "version": 3
   },
   "file_extension": ".py",
   "mimetype": "text/x-python",
   "name": "python",
   "nbconvert_exporter": "python",
   "pygments_lexer": "ipython3",
   "version": "3.10.1"
  }
 },
 "nbformat": 4,
 "nbformat_minor": 5
}
